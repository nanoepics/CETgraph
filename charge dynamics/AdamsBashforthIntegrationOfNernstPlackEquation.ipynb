{
 "cells": [
  {
   "cell_type": "code",
   "execution_count": 62,
   "metadata": {
    "collapsed": true
   },
   "outputs": [],
   "source": [
    "import sys, os\n",
    "import numpy as np\n",
    "import math\n",
    "import matplotlib as mpl\n",
    "import matplotlib.pyplot as plt\n",
    "\n",
    "\"\"\"\n",
    "First three steps with Euler, then use Adams-Bashforth:\n",
    "y_{n+3} = y_{n+2}+(h/12)*(23*f_{n+2}-16f_{n+1}+5f_{n})\n",
    "\n",
    "with y' = f(y)\n",
    "\n",
    "\"\"\"\n",
    "\n",
    "\n",
    "v = 0.1\n",
    "delta = 0.1\n",
    "epsilon = 0.25\n",
    "initialConcentration = 1.0\n",
    "distanceBetweenElectrodes = 200.0\n",
    "gridSize = 1000\n",
    "dx = 2.0/(1.0*gridSize)\n",
    "celSize = (distanceBetweenElectrodes /(1.0*gridSize))\n",
    "deltat = 0.000005\n",
    "maxT = 0.05\n",
    "\n",
    "verwijdermij = 0\n"
   ]
  },
  {
   "cell_type": "code",
   "execution_count": 87,
   "metadata": {
    "collapsed": true
   },
   "outputs": [],
   "source": [
    "def differentiateList(lst,dx):\n",
    "    #todo: this function creates a new list several times: make a itertools variant to prevent this\n",
    "    diff = np.diff(lst)\n",
    "    diff = np.divide(diff,dx)\n",
    "    derivative = [0.5*diff[i]+0.5*diff[i+1] for i in range(len(diff)-1)]\n",
    "    derivative = np.concatenate([[diff[0]],derivative,[diff[-1]]])\n",
    "    return derivative\n",
    "\n",
    "def updatePhi(rho,oldPhi):\n",
    "    global verwijdermij\n",
    "    newPhi = np.divide(np.cumsum(np.cumsum(np.insert(rho,0,0)))[:-1],+(epsilon*epsilon/(dx**2)))\n",
    "    newPhi = np.subtract(newPhi,np.mean(newPhi))\n",
    "    if(verwijdermij==4):\n",
    "        plt.figure()\n",
    "        plt.plot(newPhi)\n",
    "        plt.show()\n",
    "    verwijdermij += 1\n",
    "    newPhi=np.add(newPhi,initialPhi)\n",
    "    #newPhi[0] = v+delta*epsilon*(oldPhi[1]-oldPhi[0])/dx\n",
    "    #newPhi[-1] = -v-delta*epsilon*(oldPhi[-2]-oldPhi[-1])/dx\n",
    "    newPhi[0] = v\n",
    "    newPhi[-1] = -v\n",
    "    return newPhi\n",
    "\n",
    "def calculateNew_fc(rho, dc, dphi):\n",
    "    fc = np.multiply(rho,dphi)\n",
    "    fc = np.add(fc,dc)\n",
    "    fc = differentiateList(fc,dx)\n",
    "    fc = np.multiply(epsilon,fc)\n",
    "    #boundary conditions for frho:\n",
    "    #fc[0] = +(0.5*rho[0])*dphi[0]\n",
    "    #fc[-1] = -(0.5*rho[-1])*dphi[-1]\n",
    "    \n",
    "    return fc\n",
    "    \n",
    "def calculateNew_frho(c, drho, dphi):\n",
    "    #frho0\n",
    "    frho = np.multiply(c,dphi)\n",
    "    frho = np.add(frho,drho)\n",
    "    frho = differentiateList(frho,dx)\n",
    "    frho = np.multiply(epsilon,frho)\n",
    "    #boundary conditions for frho:\n",
    "    t= frho[0]\n",
    "    #frho[0] = +(0.5*c[0])*dphi[0]\n",
    "    #frho[-1] = -(0.5*c[-1])*dphi[-1]\n",
    "    #print(t, frho[0], t-frho[0])\n",
    "\n",
    "    return frho"
   ]
  },
  {
   "cell_type": "code",
   "execution_count": 88,
   "metadata": {},
   "outputs": [
    {
     "name": "stdout",
     "output_type": "stream",
     "text": [
      "-3.5527136788e-15\n"
     ]
    }
   ],
   "source": [
    "#Initialise the potential, concentration and charge distribution in the grid:\n",
    "\n",
    "phi = np.zeros(gridSize)\n",
    "phi0 = np.zeros(gridSize)\n",
    "phi1 = np.zeros(gridSize)\n",
    "phi2 = np.zeros(gridSize)\n",
    "rho0 = np.zeros(gridSize)\n",
    "rho1 = np.zeros(gridSize)\n",
    "rho2 = np.zeros(gridSize)\n",
    "c0 = np.full(gridSize,initialConcentration)\n",
    "c1 = np.full(gridSize,initialConcentration)\n",
    "c2 = np.full(gridSize,initialConcentration)\n",
    "\n",
    "#set the initial potential on v. This differs from Bazant where the stern layer is taken into account\n",
    "\n",
    "\n",
    "phi = [p-2*v*(1.0*i/(1.0*len(phi)-1))+v for i, p, in enumerate(phi)]\n",
    "phi0 = [p-2*v*(1.0*i/(1.0*len(phi0)-1))+v for i, p, in enumerate(phi0)]\n",
    "phi0[0] = v\n",
    "phi0[-1] = -v\n",
    "phi[0] = v\n",
    "phi[-1] = -v\n",
    "\n",
    "\n",
    "\n",
    "print(np.sum(phi))\n",
    "#and now the time derivatives of c and rho that are needed for the AB integration.\n",
    "\n",
    "frho0 = np.zeros(gridSize)\n",
    "frho1 = np.zeros(gridSize)\n",
    "frho2 = np.zeros(gridSize)\n",
    "fc0 = np.zeros(gridSize)\n",
    "fc1 = np.zeros(gridSize)\n",
    "fc2 = np.zeros(gridSize)\n",
    "\n",
    "\n",
    "initialPhi = phi.copy()"
   ]
  },
  {
   "cell_type": "code",
   "execution_count": 89,
   "metadata": {
    "scrolled": true
   },
   "outputs": [
    {
     "name": "stdout",
     "output_type": "stream",
     "text": [
      "1000.0 0.0 -0.00500500500501 0.0 -233.358358358\n",
      "1000.0 -0.00116679179179 -0.786571321335 0.0296052011771 -202.516205987\n",
      "potentiaal asssymetrisch: sum phi = -0.791942 \n"
     ]
    }
   ],
   "source": [
    "\"\"\"\n",
    "\n",
    "The boundary conditions that Bazant uses:\n",
    "\n",
    "fc_n[0] = fc_n[-1]  = 0\n",
    "frho_n[0] = frho_n[-1] = 0\n",
    "phi[0] = - phi[-1] = v-delta*epsilon*phi'\n",
    "\n",
    "\n",
    "\"\"\"\n",
    "\n",
    "\n",
    "\"\"\"\n",
    "First three steps with Euler: this is done by first calculating the \n",
    "potential phi between the electrodes and then calculating\n",
    "f0 or both c and rho, then calculate time steps. Repeat for f1 and f2,\n",
    "then do the AB algorithm\n",
    "\"\"\"\n",
    "\n",
    "\n",
    "\n",
    "\n",
    "\n",
    "\n",
    "#update phi\n",
    "\n",
    "phi = updatePhi(rho0,phi)\n",
    "\n",
    "\n",
    "#new f's step 1\n",
    "dphi = differentiateList(phi,dx)\n",
    "drho = differentiateList(rho0,dx)\n",
    "dc = differentiateList(c0,dx)\n",
    "fc0 = calculateNew_fc(rho0, dc, dphi)\n",
    "\n",
    "frho0 = calculateNew_frho(c0, drho, dphi)\n",
    "\n",
    "\n",
    "print(np.sum(c0),np.sum(rho0),np.sum(phi),np.sum(fc0), np.sum(frho0))\n",
    "\n",
    "#Euler step 1\n",
    "\n",
    "c1 = np.add(c0,np.multiply(deltat,fc0))\n",
    "rho1 = np.add(rho0,np.multiply(deltat,frho0))\n",
    "\n",
    "#update phi for step 2\n",
    "\n",
    "\n",
    "phi = updatePhi(rho1,phi)\n",
    "\n",
    "\n",
    "\n",
    "#new f's step 2\n",
    "dphi = differentiateList(phi,dx)\n",
    "drho = differentiateList(rho1,dx)\n",
    "dc = differentiateList(c1,dx)\n",
    "fc1 = calculateNew_fc(rho1, dc, dphi)\n",
    "frho1 = calculateNew_frho(c1, drho, dphi)\n",
    "\n",
    "#Euler step 2\n",
    "c2 = np.add(c1,np.multiply(deltat,fc1))\n",
    "rho2 = np.add(rho1,np.multiply(deltat,frho1))\n",
    "\n",
    "\n",
    "\n",
    "\n",
    "#update phi step 3\n",
    "phi = updatePhi(rho2,phi)\n",
    "\n",
    "\n",
    "print(np.sum(c1),np.sum(rho1),np.sum(phi),np.sum(fc1), np.sum(frho1))\n",
    "\n",
    "#new f's step 3\n",
    "dphi = differentiateList(phi,dx)\n",
    "drho = differentiateList(rho2,dx)\n",
    "dc = differentiateList(c2,dx)\n",
    "fc2 = calculateNew_fc(rho2, dc, dphi)\n",
    "frho2 = calculateNew_frho(c2, drho, dphi)\n",
    "\n",
    "#now AB instead of Euler can be used, because f_0, f_1 and f_2 are calculated:\n",
    "\n",
    "\n",
    "\n",
    "#calculate new c0:\n",
    "\n",
    "c0 = np.add(\n",
    "            np.add( np.multiply(23.0,fc2),np.multiply(-16.0,fc1)),\n",
    "                    np.multiply(5.0,fc0))\n",
    "\n",
    "c0 = np.multiply(deltat/12.0,c0)\n",
    "c0 = np.add(c2,c0)\n",
    "\n",
    "#calculate new rho0\n",
    "\n",
    "rho0 = np.add(\n",
    "            np.add( np.multiply(23.0,frho2),np.multiply(-16.0,frho1)),\n",
    "                    np.multiply(5.0,frho0))\n",
    "\n",
    "rho0 = np.multiply(deltat/12.0,rho0)\n",
    "rho0 = np.add(rho2,rho0)\n",
    "\n",
    "#Now the initialisation is finished: looping may start:\n",
    "\n",
    "\n",
    "\n",
    "for t in np.arange(0,maxT,deltat):\n",
    "    #update phi\n",
    "    phi = updatePhi(rho0,phi)\n",
    "    dphi = differentiateList(phi,dx)\n",
    "    \n",
    "    if(np.sum(phi)*np.sum(phi) > 0.0001):\n",
    "        print(\"potentiaal asssymetrisch: sum phi = %f \" % np.sum(phi))\n",
    "        break\n",
    "    if(np.sum(rho0)*np.sum(rho0) > 0.0001):\n",
    "        print(\"rho0 asssymetrisch: sum rho0 = %f \" % np.sum(rho0))\n",
    "        break\n",
    "\n",
    "    #update f's\n",
    "\n",
    "    frho0 = frho1\n",
    "    frho1 = frho2\n",
    "    frho2 = calculateNew_frho(c0, drho, dphi)\n",
    "    fc0 = fc1\n",
    "    fc1 = fc2\n",
    "    fc2 = calculateNew_fc(rho0, dc, dphi)\n",
    "\n",
    "    #timestep:\n",
    "    c1 = np.add(\n",
    "            np.add( np.multiply(23.0,fc2),np.multiply(-16.0,fc1)),\n",
    "                    np.multiply(5.0,fc0))\n",
    "\n",
    "    c1 = np.multiply(deltat/12.0,c1)\n",
    "    c0 = np.add(c1,c0)\n",
    "\n",
    "    c0[0] = +(0.5*rho0[0]])*dphi[0]\n",
    "    c0[-1] = -(0.5*rho0[-1])*dphi[-1]\n",
    "    \n",
    "    \n",
    "    rho1 = np.add(\n",
    "            np.add( np.multiply(23.0,frho2),np.multiply(-16.0,frho1)),\n",
    "                    np.multiply(5.0,frho0))\n",
    "\n",
    "    rho1 = np.multiply(deltat/12.0,rho1)\n",
    "    rho0 = np.add(rho1,rho0)\n",
    "    \n",
    "    drho = differentiateList(rho0,dx)\n",
    "    dc = differentiateList(c0,dx)\n",
    "    \n",
    "    "
   ]
  },
  {
   "cell_type": "code",
   "execution_count": 90,
   "metadata": {},
   "outputs": [
    {
     "data": {
      "image/png": "[encoded data removed]",
      "text/plain": [
       "<matplotlib.figure.Figure at 0x23718fa55f8>"
      ]
     },
     "metadata": {},
     "output_type": "display_data"
    },
    {
     "data": {
      "image/png": "[encoded data removed]",
      "text/plain": [
       "<matplotlib.figure.Figure at 0x23717b90160>"
      ]
     },
     "metadata": {},
     "output_type": "display_data"
    },
    {
     "data": {
      "image/png": "[encoded data removed]",
      "text/plain": [
       "<matplotlib.figure.Figure at 0x23717ae1b38>"
      ]
     },
     "metadata": {},
     "output_type": "display_data"
    },
    {
     "data": {
      "image/png": "[encoded data removed]",
      "text/plain": [
       "<matplotlib.figure.Figure at 0x23717d30208>"
      ]
     },
     "metadata": {},
     "output_type": "display_data"
    }
   ],
   "source": [
    "plt.figure()\n",
    "plt.title(\"phi (potential)\")\n",
    "plt.plot(phi,'-')\n",
    "plt.show()\n",
    "\n",
    "plt.figure()\n",
    "plt.title(\"Rho (Solvent charge)\")\n",
    "plt.plot(rho0,'-')\n",
    "plt.show()\n",
    "\n",
    "plt.figure()\n",
    "plt.title(\"C (Ion concentration)\")\n",
    "plt.plot(c0,'-')\n",
    "plt.show()\n",
    "\n",
    "plt.figure()\n",
    "plt.title(\"phi - phi0\")\n",
    "plt.plot(np.subtract(phi,initialPhi),'-')\n",
    "plt.show()\n",
    "\n",
    "\n"
   ]
  },
  {
   "cell_type": "code",
   "execution_count": null,
   "metadata": {
    "collapsed": true
   },
   "outputs": [],
   "source": []
  },
  {
   "cell_type": "code",
   "execution_count": null,
   "metadata": {
    "collapsed": true
   },
   "outputs": [],
   "source": []
  },
  {
   "cell_type": "code",
   "execution_count": null,
   "metadata": {
    "collapsed": true
   },
   "outputs": [],
   "source": []
  },
  {
   "cell_type": "code",
   "execution_count": null,
   "metadata": {
    "collapsed": true
   },
   "outputs": [],
   "source": []
  },
  {
   "cell_type": "code",
   "execution_count": null,
   "metadata": {
    "collapsed": true
   },
   "outputs": [],
   "source": []
  },
  {
   "cell_type": "code",
   "execution_count": null,
   "metadata": {
    "collapsed": true
   },
   "outputs": [],
   "source": []
  },
  {
   "cell_type": "code",
   "execution_count": 95,
   "metadata": {},
   "outputs": [
    {
     "data": {
      "text/plain": [
       "-66.436841410352898"
      ]
     },
     "execution_count": 95,
     "metadata": {},
     "output_type": "execute_result"
    }
   ],
   "source": [
    "-v-delta*epsilon*(phi[-2]-phi[-1])/dx"
   ]
  },
  {
   "cell_type": "code",
   "execution_count": 96,
   "metadata": {},
   "outputs": [
    {
     "data": {
      "text/plain": [
       "-56.337277075421078"
      ]
     },
     "execution_count": 96,
     "metadata": {},
     "output_type": "execute_result"
    }
   ],
   "source": [
    "v+delta*epsilon*(phi[1]-phi[0])/dx\n"
   ]
  },
  {
   "cell_type": "code",
   "execution_count": 98,
   "metadata": {},
   "outputs": [
    {
     "data": {
      "text/plain": [
       "4.6200853020548109"
      ]
     },
     "execution_count": 98,
     "metadata": {},
     "output_type": "execute_result"
    }
   ],
   "source": [
    "phi[0]"
   ]
  },
  {
   "cell_type": "code",
   "execution_count": null,
   "metadata": {
    "collapsed": true
   },
   "outputs": [],
   "source": []
  }
 ],
 "metadata": {
  "kernelspec": {
   "display_name": "Python 3",
   "language": "python",
   "name": "python3"
  },
  "language_info": {
   "codemirror_mode": {
    "name": "ipython",
    "version": 3
   },
   "file_extension": ".py",
   "mimetype": "text/x-python",
   "name": "python",
   "nbconvert_exporter": "python",
   "pygments_lexer": "ipython3",
   "version": "3.6.3"
  }
 },
 "nbformat": 4,
 "nbformat_minor": 2
}
